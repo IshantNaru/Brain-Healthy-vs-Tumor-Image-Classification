{
 "cells": [
  {
   "cell_type": "code",
   "execution_count": 1,
   "id": "138a0025",
   "metadata": {},
   "outputs": [],
   "source": [
    "import numpy as np\n",
    "import pandas as pd \n",
    "import matplotlib.pyplot as plt \n",
    "%matplotlib inline\n",
    "import os\n",
    "import cv2\n",
    "import shutil\n",
    "import tensorflow as tf\n",
    "\n",
    "from tensorflow import keras\n",
    "from tensorflow.keras import layers"
   ]
  },
  {
   "cell_type": "code",
   "execution_count": 2,
   "id": "89871779",
   "metadata": {},
   "outputs": [],
   "source": [
    "train_dir = 'C:/Users/Ishant Naru/brain tumor data/train'\n",
    "val_dir = 'C:/Users/Ishant Naru/brain tumor data/val'\n",
    "test_dir = 'C:/Users/Ishant Naru/brain tumor data/test'"
   ]
  },
  {
   "cell_type": "code",
   "execution_count": 3,
   "id": "479a5d76",
   "metadata": {},
   "outputs": [],
   "source": [
    "#reproducibility\n",
    "np.random.seed(45)\n",
    "tf.random.set_seed(45)"
   ]
  },
  {
   "cell_type": "code",
   "execution_count": 4,
   "id": "ed74f468",
   "metadata": {},
   "outputs": [],
   "source": [
    "from keras.preprocessing.image import ImageDataGenerator \n",
    "\n",
    "train_datagen = ImageDataGenerator(\n",
    "                rescale=1./255,\n",
    "                rotation_range=0.1,\n",
    "                width_shift_range=0.3,\n",
    "                height_shift_range=0.3,\n",
    "                #shear_range=0.3,\n",
    "                zoom_range=0.4,\n",
    "                #horizontal_flip= True\n",
    "                )\n",
    "test_datagen = ImageDataGenerator(rescale=1./255)"
   ]
  },
  {
   "cell_type": "code",
   "execution_count": 5,
   "id": "36fb8607",
   "metadata": {},
   "outputs": [
    {
     "name": "stdout",
     "output_type": "stream",
     "text": [
      "Found 2759 images belonging to 2 classes.\n",
      "Found 919 images belonging to 2 classes.\n"
     ]
    }
   ],
   "source": [
    "#uploading images in batches in train_generator and validation_generator \n",
    "\n",
    "train_generator = train_datagen.flow_from_directory(\n",
    "                train_dir,\n",
    "                target_size=(200,200),\n",
    "                batch_size=50,\n",
    "                class_mode='binary',\n",
    "                color_mode='rgb')\n",
    "\n",
    "validation_generator = test_datagen.flow_from_directory(\n",
    "                val_dir,\n",
    "                target_size=(200,200),\n",
    "                batch_size=20,\n",
    "                class_mode='binary',\n",
    "                color_mode='rgb')"
   ]
  },
  {
   "cell_type": "code",
   "execution_count": 6,
   "id": "0e88c41a",
   "metadata": {},
   "outputs": [
    {
     "name": "stdout",
     "output_type": "stream",
     "text": [
      "Model: \"sequential\"\n",
      "_________________________________________________________________\n",
      "Layer (type)                 Output Shape              Param #   \n",
      "=================================================================\n",
      "inception_resnet_v2 (Functio (None, 4, 4, 1536)        54336736  \n",
      "_________________________________________________________________\n",
      "flatten (Flatten)            (None, 24576)             0         \n",
      "_________________________________________________________________\n",
      "dense (Dense)                (None, 300)               7373100   \n",
      "_________________________________________________________________\n",
      "dense_1 (Dense)              (None, 1)                 301       \n",
      "=================================================================\n",
      "Total params: 61,710,137\n",
      "Trainable params: 7,373,401\n",
      "Non-trainable params: 54,336,736\n",
      "_________________________________________________________________\n"
     ]
    }
   ],
   "source": [
    "#Convolutional Base = Inception \n",
    "\n",
    "from tensorflow.keras.applications import InceptionResNetV2\n",
    "\n",
    "conv_base = InceptionResNetV2(weights='imagenet',\n",
    "                             include_top=False,\n",
    "                             input_shape=(200,200,3))\n",
    "\n",
    "conv_base.trainable=False\n",
    "\n",
    "#Fully Connected Neural Network Base \n",
    "\n",
    "fcnn = keras.Sequential([\n",
    "    conv_base,\n",
    "    layers.Flatten(),\n",
    "    layers.Dense(300, activation='relu'),\n",
    "    layers.Dense(1, activation='sigmoid')\n",
    "])\n",
    "\n",
    "fcnn.summary()"
   ]
  },
  {
   "cell_type": "code",
   "execution_count": 7,
   "id": "793489e9",
   "metadata": {},
   "outputs": [],
   "source": [
    "#compiling step\n",
    "from tensorflow.keras.optimizers import RMSprop\n",
    "\n",
    "fcnn.compile(loss='binary_crossentropy',\n",
    "              optimizer=RMSprop(learning_rate= 1e-4),\n",
    "              metrics = ['accuracy'])"
   ]
  },
  {
   "cell_type": "code",
   "execution_count": 8,
   "id": "596cd65e",
   "metadata": {},
   "outputs": [],
   "source": [
    "#Creating Callbacks \n",
    "\n",
    "checkpoint_cb=keras.callbacks.ModelCheckpoint(\"BrainTumorInception.h5\", save_best_only=True)\n",
    "early_stop_cb=keras.callbacks.EarlyStopping(min_delta=0.0001, patience=4, restore_best_weights=True)"
   ]
  },
  {
   "cell_type": "code",
   "execution_count": 9,
   "id": "92421799",
   "metadata": {},
   "outputs": [
    {
     "name": "stdout",
     "output_type": "stream",
     "text": [
      "Epoch 1/30\n",
      "56/56 [==============================] - 435s 8s/step - loss: 1.0761 - accuracy: 0.7209 - val_loss: 0.5037 - val_accuracy: 0.7388\n",
      "Epoch 2/30\n",
      "56/56 [==============================] - 397s 7s/step - loss: 0.4896 - accuracy: 0.7749 - val_loss: 0.3539 - val_accuracy: 0.8509\n",
      "Epoch 3/30\n",
      "56/56 [==============================] - 953s 17s/step - loss: 0.4557 - accuracy: 0.7916 - val_loss: 0.5655 - val_accuracy: 0.7345\n",
      "Epoch 4/30\n",
      "56/56 [==============================] - 415s 7s/step - loss: 0.3874 - accuracy: 0.8394 - val_loss: 0.2926 - val_accuracy: 0.8770\n",
      "Epoch 5/30\n",
      "56/56 [==============================] - 431s 8s/step - loss: 0.4189 - accuracy: 0.8123 - val_loss: 0.3489 - val_accuracy: 0.8368\n",
      "Epoch 6/30\n",
      "56/56 [==============================] - 400s 7s/step - loss: 0.3574 - accuracy: 0.8489 - val_loss: 0.2940 - val_accuracy: 0.8738\n",
      "Epoch 7/30\n",
      "56/56 [==============================] - 397s 7s/step - loss: 0.3706 - accuracy: 0.8427 - val_loss: 0.3055 - val_accuracy: 0.8672\n",
      "Epoch 8/30\n",
      "56/56 [==============================] - 398s 7s/step - loss: 0.3368 - accuracy: 0.8590 - val_loss: 0.2213 - val_accuracy: 0.9151\n",
      "Epoch 9/30\n",
      "56/56 [==============================] - 406s 7s/step - loss: 0.3284 - accuracy: 0.8579 - val_loss: 0.2533 - val_accuracy: 0.8890\n",
      "Epoch 10/30\n",
      "56/56 [==============================] - 404s 7s/step - loss: 0.3062 - accuracy: 0.8750 - val_loss: 0.2650 - val_accuracy: 0.8792\n",
      "Epoch 11/30\n",
      "56/56 [==============================] - 491s 9s/step - loss: 0.2958 - accuracy: 0.8833 - val_loss: 0.3029 - val_accuracy: 0.8781\n",
      "Epoch 12/30\n",
      "56/56 [==============================] - 505s 9s/step - loss: 0.2798 - accuracy: 0.8847 - val_loss: 0.2016 - val_accuracy: 0.9129\n",
      "Epoch 13/30\n",
      "56/56 [==============================] - 441s 8s/step - loss: 0.2870 - accuracy: 0.8840 - val_loss: 0.2213 - val_accuracy: 0.9064\n",
      "Epoch 14/30\n",
      "56/56 [==============================] - 443s 8s/step - loss: 0.2768 - accuracy: 0.8793 - val_loss: 0.2171 - val_accuracy: 0.9086\n",
      "Epoch 15/30\n",
      "56/56 [==============================] - 398s 7s/step - loss: 0.2653 - accuracy: 0.8866 - val_loss: 0.2129 - val_accuracy: 0.9097\n",
      "Epoch 16/30\n",
      "56/56 [==============================] - 404s 7s/step - loss: 0.2462 - accuracy: 0.9061 - val_loss: 0.2213 - val_accuracy: 0.9097\n"
     ]
    }
   ],
   "source": [
    "# #Fitting the model \n",
    "history_1 = fcnn.fit(\n",
    "            train_generator,\n",
    "            steps_per_epoch=56,\n",
    "            epochs = 30,\n",
    "            validation_data=validation_generator,\n",
    "            validation_steps=46,\n",
    "            callbacks=[checkpoint_cb, early_stop_cb])"
   ]
  },
  {
   "cell_type": "code",
   "execution_count": 11,
   "id": "7bf90bac",
   "metadata": {},
   "outputs": [
    {
     "data": {
      "image/png": "[encoded data removed]",
      "text/plain": [
       "<Figure size 720x504 with 1 Axes>"
      ]
     },
     "metadata": {
      "needs_background": "light"
     },
     "output_type": "display_data"
    }
   ],
   "source": [
    "pd.DataFrame(history_1.history).plot(figsize=(10,7))\n",
    "plt.grid(True)\n",
    "plt.gca().set_ylim(0,1)\n",
    "plt.show()"
   ]
  },
  {
   "cell_type": "code",
   "execution_count": 12,
   "id": "e452c3c2",
   "metadata": {},
   "outputs": [
    {
     "name": "stdout",
     "output_type": "stream",
     "text": [
      "Found 922 images belonging to 2 classes.\n"
     ]
    }
   ],
   "source": [
    "#Evaluating on test set \n",
    "\n",
    "test_generator = test_datagen.flow_from_directory(\n",
    "                test_dir,\n",
    "                target_size=(200,200),\n",
    "                batch_size=40,\n",
    "                color_mode='rgb',\n",
    "                class_mode='binary')"
   ]
  },
  {
   "cell_type": "code",
   "execution_count": 13,
   "id": "e6fbb8da",
   "metadata": {},
   "outputs": [
    {
     "name": "stdout",
     "output_type": "stream",
     "text": [
      "24/25 [===========================>..] - ETA: 3s - loss: 0.1978 - accuracy: 0.9187WARNING:tensorflow:Your input ran out of data; interrupting training. Make sure that your dataset or generator can generate at least `steps_per_epoch * epochs` batches (in this case, 25 batches). You may need to use the repeat() function when building your dataset.\n",
      "25/25 [==============================] - 92s 4s/step - loss: 0.1978 - accuracy: 0.9187\n"
     ]
    },
    {
     "data": {
      "text/plain": [
       "[0.19780446588993073, 0.9186550974845886]"
      ]
     },
     "execution_count": 13,
     "metadata": {},
     "output_type": "execute_result"
    }
   ],
   "source": [
    "fcnn.evaluate(test_generator, steps=25)"
   ]
  },
  {
   "cell_type": "code",
   "execution_count": 15,
   "id": "712a91c5",
   "metadata": {},
   "outputs": [
    {
     "name": "stdout",
     "output_type": "stream",
     "text": [
      "Found 40 images belonging to 1 classes.\n"
     ]
    }
   ],
   "source": [
    "pred_dir = 'C:/Users/Ishant Naru/brain tumor data/pred'\n",
    "\n",
    "pred_generator = test_datagen.flow_from_directory(\n",
    "                pred_dir,\n",
    "                target_size=(200,200),\n",
    "                batch_size=5,\n",
    "                shuffle=False,\n",
    "                class_mode=None,\n",
    "                color_mode='rgb')"
   ]
  },
  {
   "cell_type": "code",
   "execution_count": 17,
   "id": "a57a4555",
   "metadata": {},
   "outputs": [],
   "source": [
    "predictions = fcnn.predict(pred_generator, steps=8)"
   ]
  },
  {
   "cell_type": "code",
   "execution_count": 19,
   "id": "63c81938",
   "metadata": {},
   "outputs": [
    {
     "name": "stdout",
     "output_type": "stream",
     "text": [
      "[[3.2733381e-02]\n",
      " [3.1419867e-01]\n",
      " [1.1005640e-02]\n",
      " [2.7487248e-01]\n",
      " [6.6284760e-05]\n",
      " [5.6758648e-01]\n",
      " [1.9281477e-02]\n",
      " [4.2175324e-07]\n",
      " [1.6882628e-01]\n",
      " [8.0628051e-05]\n",
      " [1.5955478e-02]\n",
      " [4.2325258e-04]\n",
      " [2.4048963e-01]\n",
      " [4.0548593e-02]\n",
      " [1.8940568e-03]\n",
      " [6.1206222e-02]\n",
      " [5.7515502e-03]\n",
      " [9.7730505e-01]\n",
      " [2.0846945e-01]\n",
      " [4.6834230e-01]\n",
      " [9.9788761e-01]\n",
      " [8.5989523e-01]\n",
      " [6.6206300e-01]\n",
      " [9.8915684e-01]\n",
      " [9.9194562e-01]\n",
      " [7.8935426e-01]\n",
      " [9.6259558e-01]\n",
      " [9.5921516e-01]\n",
      " [8.6871660e-01]\n",
      " [8.2169056e-02]\n",
      " [9.9600935e-01]\n",
      " [9.8223925e-01]\n",
      " [7.9253328e-01]\n",
      " [9.8733330e-01]\n",
      " [9.8922020e-01]\n",
      " [5.3348297e-01]\n",
      " [9.8711455e-01]\n",
      " [9.4235891e-01]\n",
      " [9.9907947e-01]\n",
      " [8.0228996e-01]]\n"
     ]
    }
   ],
   "source": [
    "print(predictions)"
   ]
  },
  {
   "cell_type": "code",
   "execution_count": 20,
   "id": "e352ddec",
   "metadata": {},
   "outputs": [],
   "source": [
    "cl = np.round(predictions)\n",
    "filenames=pred_generator.filenames"
   ]
  },
  {
   "cell_type": "code",
   "execution_count": 22,
   "id": "44e3f7b0",
   "metadata": {},
   "outputs": [
    {
     "name": "stdout",
     "output_type": "stream",
     "text": [
      "                          file            pr  class\n",
      "0          pred\\Cancer (1).jpg  3.273338e-02    0.0\n",
      "1         pred\\Cancer (10).jpg  3.141987e-01    0.0\n",
      "2         pred\\Cancer (12).jpg  1.100564e-02    0.0\n",
      "3         pred\\Cancer (19).tif  2.748725e-01    0.0\n",
      "4         pred\\Cancer (28).jpg  6.628476e-05    0.0\n",
      "5         pred\\Cancer (28).tif  5.675865e-01    1.0\n",
      "6         pred\\Cancer (30).jpg  1.928148e-02    0.0\n",
      "7         pred\\Cancer (33).jpg  4.217532e-07    0.0\n",
      "8         pred\\Cancer (33).tif  1.688263e-01    0.0\n",
      "9         pred\\Cancer (34).jpg  8.062805e-05    0.0\n",
      "10        pred\\Cancer (35).jpg  1.595548e-02    0.0\n",
      "11        pred\\Cancer (36).jpg  4.232526e-04    0.0\n",
      "12        pred\\Cancer (37).tif  2.404896e-01    0.0\n",
      "13        pred\\Cancer (38).jpg  4.054859e-02    0.0\n",
      "14        pred\\Cancer (46).tif  1.894057e-03    0.0\n",
      "15        pred\\Cancer (47).tif  6.120622e-02    0.0\n",
      "16        pred\\Cancer (51).tif  5.751550e-03    0.0\n",
      "17        pred\\Cancer (56).tif  9.773051e-01    1.0\n",
      "18         pred\\Cancer (6).jpg  2.084695e-01    0.0\n",
      "19         pred\\Cancer (7).jpg  4.683423e-01    0.0\n",
      "20   pred\\Not Cancer  (1).jpeg  9.978876e-01    1.0\n",
      "21  pred\\Not Cancer  (102).jpg  8.598952e-01    1.0\n",
      "22   pred\\Not Cancer  (11).jpg  6.620630e-01    1.0\n",
      "23   pred\\Not Cancer  (14).jpg  9.891568e-01    1.0\n",
      "24   pred\\Not Cancer  (27).jpg  9.919456e-01    1.0\n",
      "25   pred\\Not Cancer  (29).jpg  7.893543e-01    1.0\n",
      "26   pred\\Not Cancer  (31).jpg  9.625956e-01    1.0\n",
      "27   pred\\Not Cancer  (32).jpg  9.592152e-01    1.0\n",
      "28   pred\\Not Cancer  (35).jpg  8.687166e-01    1.0\n",
      "29   pred\\Not Cancer  (48).jpg  8.216906e-02    0.0\n",
      "30   pred\\Not Cancer  (55).jpg  9.960093e-01    1.0\n",
      "31   pred\\Not Cancer  (6).jpeg  9.822392e-01    1.0\n",
      "32   pred\\Not Cancer  (61).jpg  7.925333e-01    1.0\n",
      "33   pred\\Not Cancer  (69).jpg  9.873333e-01    1.0\n",
      "34   pred\\Not Cancer  (71).jpg  9.892202e-01    1.0\n",
      "35   pred\\Not Cancer  (73).jpg  5.334830e-01    1.0\n",
      "36   pred\\Not Cancer  (81).jpg  9.871145e-01    1.0\n",
      "37   pred\\Not Cancer  (84).jpg  9.423589e-01    1.0\n",
      "38    pred\\Not Cancer  (9).jpg  9.990795e-01    1.0\n",
      "39   pred\\Not Cancer  (90).jpg  8.022900e-01    1.0\n"
     ]
    }
   ],
   "source": [
    "results=pd.DataFrame({\"file\":filenames,\"pr\":predictions[:,0], \"class\":cl[:,0]})\n",
    "print(results)"
   ]
  }
 ],
 "metadata": {
  "kernelspec": {
   "display_name": "Python 3",
   "language": "python",
   "name": "python3"
  },
  "language_info": {
   "codemirror_mode": {
    "name": "ipython",
    "version": 3
   },
   "file_extension": ".py",
   "mimetype": "text/x-python",
   "name": "python",
   "nbconvert_exporter": "python",
   "pygments_lexer": "ipython3",
   "version": "3.8.8"
  }
 },
 "nbformat": 4,
 "nbformat_minor": 5
}
